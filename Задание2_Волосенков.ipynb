{
 "cells": [
  {
   "cell_type": "markdown",
   "id": "crude-armor",
   "metadata": {},
   "source": [
    "# Компьютерное зрение. Базовый курс"
   ]
  },
  {
   "cell_type": "markdown",
   "id": "satellite-increase",
   "metadata": {},
   "source": [
    "## Пространственная фильтрация изображений"
   ]
  },
  {
   "cell_type": "markdown",
   "id": "cutting-induction",
   "metadata": {},
   "source": [
    "### Медианный фильтр"
   ]
  },
  {
   "cell_type": "markdown",
   "id": "dietary-vector",
   "metadata": {},
   "source": [
    "#### Условие"
   ]
  },
  {
   "cell_type": "markdown",
   "id": "korean-affair",
   "metadata": {},
   "source": [
    "* Реализуйте **3 алгоритма** медианного фильтра: простая сортировка, алгоритм Huang et al. (любая из модификаций), constant time O(1).\n",
    "\n",
    "* Убедитесь в их работоспособности, результат их работы должен совпадать для всех изображений. Выбор изображений для экспериментов - на ваше усмотрение.\n",
    "\n",
    "* Разрешается использовать готовые реализации алгоритмов сортировки из внешних библиотек.\n",
    "\n",
    "* Постройте график зависимости времени работы алгоритмов (мсек/мегапиксель) от радиуса окна, для $R < 100$.\n",
    "\n",
    "* Оцените фактическую асимптотику алгоритмов и требуемую память.\n",
    "\n",
    "* Сравните свои реализации с имеющейся в библиотеке `OpenCV`.\n",
    "\n",
    "* Предложите параметры для оптимальной композиции алгоритмов (например, $R < T$ - алгоритм A, иначе - алгоритм B).\n",
    "\n",
    "* Для получения максимального балла за задание (20) **необходимо** прислать исходный код и полученные результаты: пример работы алгоритмов, графики времени работы, оценки фактической сложности, параметры для композиции алгоритмов."
   ]
  },
  {
   "cell_type": "markdown",
   "id": "forty-xerox",
   "metadata": {},
   "source": [
    "#### Решение"
   ]
  },
  {
   "cell_type": "markdown",
   "id": "quantitative-junction",
   "metadata": {},
   "source": [
    "Для работы с изображениями (методы, необходимые для чтения изображения из файла, записи изображения в файл и отображения изображения на экране, а также метод применения медианного фильтра к изображению) воспользуемся библиотекой `OpenCV`, а для более быстрой и эффективной работы с массивами - библиотекой `numpy`."
   ]
  },
  {
   "cell_type": "code",
   "execution_count": 1,
   "id": "worthy-franchise",
   "metadata": {
    "ExecuteTime": {
     "end_time": "2021-11-22T16:31:03.197058Z",
     "start_time": "2021-11-22T16:31:03.010527Z"
    }
   },
   "outputs": [],
   "source": [
    "import cv2\n",
    "import numpy as np"
   ]
  },
  {
   "cell_type": "code",
   "execution_count": 2,
   "id": "sunset-immune",
   "metadata": {
    "ExecuteTime": {
     "end_time": "2021-11-22T16:31:03.202156Z",
     "start_time": "2021-11-22T16:31:03.198757Z"
    }
   },
   "outputs": [],
   "source": [
    "NUM_CHANNELS = 3\n",
    "MIN_COMPONENT_VALUE = 0\n",
    "MAX_COMPONENT_VALUE = 255"
   ]
  },
  {
   "cell_type": "markdown",
   "id": "declared-castle",
   "metadata": {},
   "source": [
    "Медианный фильтр особенно эффективен для подавления шума salt-and-pepper, поэтому для дальнейших экспериментов реализуем функцию добавления такого искажения на исходное изображение."
   ]
  },
  {
   "cell_type": "code",
   "execution_count": 3,
   "id": "challenging-junior",
   "metadata": {
    "ExecuteTime": {
     "end_time": "2021-11-22T16:31:03.271674Z",
     "start_time": "2021-11-22T16:31:03.204977Z"
    }
   },
   "outputs": [],
   "source": [
    "def add_salt_and_pepper(orig_img, prob):\n",
    "    rnd = np.random.rand(orig_img.shape[0], orig_img.shape[1])\n",
    "    noisy_img = orig_img.copy().transpose((2, 0, 1))\n",
    "    noisy_img[0][rnd < prob] = noisy_img[1][rnd < prob] = noisy_img[2][rnd < prob] = MIN_COMPONENT_VALUE\n",
    "    noisy_img[0][rnd > 1 - prob] = noisy_img[1][rnd > 1 - prob] = noisy_img[2][rnd > 1 - prob] = MAX_COMPONENT_VALUE\n",
    "    return noisy_img.transpose((1, 2, 0))"
   ]
  },
  {
   "cell_type": "markdown",
   "id": "focused-float",
   "metadata": {},
   "source": [
    "Для иллюстрации работы функции загрузим и сохраним оригинальное изображение, а затем добавим шум c вероятностью $noise\\text{_}prob = 0.1$."
   ]
  },
  {
   "cell_type": "code",
   "execution_count": 4,
   "id": "collectible-isaac",
   "metadata": {
    "ExecuteTime": {
     "end_time": "2021-11-22T16:31:03.352070Z",
     "start_time": "2021-11-22T16:31:03.273493Z"
    }
   },
   "outputs": [
    {
     "data": {
      "text/plain": [
       "(400, 400, 3)"
      ]
     },
     "execution_count": 4,
     "metadata": {},
     "output_type": "execute_result"
    }
   ],
   "source": [
    "lenna_orig = cv2.imread('lenna_orig.jpeg', cv2.IMREAD_COLOR)\n",
    "lenna_orig.shape"
   ]
  },
  {
   "cell_type": "code",
   "execution_count": 5,
   "id": "dental-caution",
   "metadata": {
    "ExecuteTime": {
     "end_time": "2021-11-22T16:31:03.408764Z",
     "start_time": "2021-11-22T16:31:03.353878Z"
    }
   },
   "outputs": [],
   "source": [
    "def viewImage(image, name_of_window):\n",
    "    cv2.namedWindow(name_of_window, cv2.WINDOW_NORMAL)\n",
    "    cv2.imshow(name_of_window, image)\n",
    "    cv2.waitKey(0)\n",
    "    cv2.destroyAllWindows()"
   ]
  },
  {
   "cell_type": "code",
   "execution_count": 6,
   "id": "turned-caribbean",
   "metadata": {
    "ExecuteTime": {
     "end_time": "2021-11-22T16:31:04.791468Z",
     "start_time": "2021-11-22T16:31:03.410649Z"
    }
   },
   "outputs": [],
   "source": [
    "viewImage(lenna_orig,'lenna_orig')"
   ]
  },
  {
   "cell_type": "code",
   "execution_count": 7,
   "id": "departmental-perfume",
   "metadata": {
    "ExecuteTime": {
     "end_time": "2021-11-22T16:31:04.809698Z",
     "start_time": "2021-11-22T16:31:04.799489Z"
    }
   },
   "outputs": [],
   "source": [
    "noise_prob = 0.1"
   ]
  },
  {
   "cell_type": "code",
   "execution_count": 8,
   "id": "structural-model",
   "metadata": {
    "ExecuteTime": {
     "end_time": "2021-11-22T16:31:04.881109Z",
     "start_time": "2021-11-22T16:31:04.821596Z"
    }
   },
   "outputs": [],
   "source": [
    "lenna_noisy = add_salt_and_pepper(orig_img=lenna_orig, prob=noise_prob)"
   ]
  },
  {
   "cell_type": "code",
   "execution_count": 9,
   "id": "sudden-savage",
   "metadata": {
    "ExecuteTime": {
     "end_time": "2021-11-22T16:31:05.411848Z",
     "start_time": "2021-11-22T16:31:04.883518Z"
    }
   },
   "outputs": [],
   "source": [
    "viewImage(lenna_noisy,'lenna_noisy')"
   ]
  },
  {
   "cell_type": "markdown",
   "id": "russian-threat",
   "metadata": {},
   "source": [
    "Теперь можно приступать к реализации алгоритмов медианного фильтра."
   ]
  },
  {
   "cell_type": "markdown",
   "id": "hourly-regulation",
   "metadata": {},
   "source": [
    "Заметим, что для корректной работы алгоритма с окном радиуса $R$ необходимо расширить границы изображения на $\\frac {R - 1} {2}$ в каждую сторону (предполагаем, что $R$ - нечетное число), чтобы не упустить из рассмотрения пиксели на границе. Для дальнейшего удобства сравнения работы алгоритмов с реализацией в библиотеке `OpenCV` расширять границы изображения будем таким же способом, а именно: для расширения границы в одну из сторон дублировать нужное количество раз граничные пиксели с соответствующей стороны. Для расширения границы в смежных направлениях предлагается дублировать соответствующие угловые пиксели."
   ]
  },
  {
   "cell_type": "code",
   "execution_count": 10,
   "id": "secret-fever",
   "metadata": {
    "ExecuteTime": {
     "end_time": "2021-11-22T16:31:05.473508Z",
     "start_time": "2021-11-22T16:31:05.418971Z"
    }
   },
   "outputs": [],
   "source": [
    "def make_border(img, depth=1):\n",
    "    img = img.astype(np.int32)\n",
    "    \n",
    "    height_orig = img.shape[0]\n",
    "    width_orig = img.shape[1]\n",
    "\n",
    "    height = height_orig + 2 * depth\n",
    "    width = width_orig + 2 * depth\n",
    "\n",
    "    modified_img = np.zeros((height, width, 3))\n",
    "    modified_img[depth:-depth, depth:-depth, :] = img\n",
    "\n",
    "    for k in range(NUM_CHANNELS):\n",
    "        for i in range(depth):\n",
    "            for j in range(depth):\n",
    "                modified_img[i][j][k] = modified_img[depth][depth][k]\n",
    "                modified_img[i][width - j - 1][k] = modified_img[depth][width - depth - 1][k]\n",
    "                modified_img[height - i - 1][j][k] = modified_img[height - depth - 1][depth][k]\n",
    "                modified_img[height - i - 1][width - j - 1][k] = modified_img[height - depth - 1][width - depth - 1][k]\n",
    "\n",
    "            for j in range(height_orig):\n",
    "                modified_img[depth + j][i][k] = modified_img[depth + j][depth][k]\n",
    "                modified_img[depth + j][width - i - 1][k] = modified_img[depth + j][width - depth - 1][k]\n",
    "\n",
    "            for j in range(width_orig):\n",
    "                modified_img[i][depth + j][k] = modified_img[depth][depth + j][k]\n",
    "                modified_img[height - i - 1][depth + j][k] = modified_img[height - depth - 1][depth + j][k]\n",
    "    \n",
    "    return modified_img.astype('uint8')"
   ]
  },
  {
   "cell_type": "markdown",
   "id": "trained-chorus",
   "metadata": {},
   "source": [
    "Убедимся, что функция добавления границы работает корректно."
   ]
  },
  {
   "cell_type": "code",
   "execution_count": 11,
   "id": "hydraulic-station",
   "metadata": {
    "ExecuteTime": {
     "end_time": "2021-11-22T16:31:05.812771Z",
     "start_time": "2021-11-22T16:31:05.482928Z"
    }
   },
   "outputs": [],
   "source": [
    "with_border_custom = make_border(img=lenna_orig, depth=50)\n",
    "with_border_cv2 = cv2.copyMakeBorder(src=lenna_orig, top=50, bottom=50, left=50, right=50, borderType=cv2.BORDER_REPLICATE)\n",
    "assert np.allclose(with_border_custom, with_border_cv2)"
   ]
  },
  {
   "cell_type": "markdown",
   "id": "extensive-chase",
   "metadata": {},
   "source": [
    "Результат работы алгоритма будем сравнивать с результатом работы функции `medianBlur` из библиотеки `OpenCV`. Для радиуса окна выберем значение $R = 7$ (значение для данного примера подобрано эмпирически, так, чтобы эффект от применения фильтра был наиболее наглядным)."
   ]
  },
  {
   "cell_type": "code",
   "execution_count": 12,
   "id": "rotary-minnesota",
   "metadata": {
    "ExecuteTime": {
     "end_time": "2021-11-22T16:31:06.769280Z",
     "start_time": "2021-11-22T16:31:05.814337Z"
    }
   },
   "outputs": [
    {
     "name": "stdout",
     "output_type": "stream",
     "text": [
      "CPU times: user 47 ms, sys: 0 ns, total: 47 ms\n",
      "Wall time: 45.8 ms\n"
     ]
    }
   ],
   "source": [
    "%%time\n",
    "cv2_result = cv2.medianBlur(lenna_noisy, 7)"
   ]
  },
  {
   "cell_type": "code",
   "execution_count": 13,
   "id": "middle-water",
   "metadata": {
    "ExecuteTime": {
     "end_time": "2021-11-22T16:31:07.302441Z",
     "start_time": "2021-11-22T16:31:06.771221Z"
    }
   },
   "outputs": [],
   "source": [
    "viewImage(cv2_result, 'OpenCV Median Blur')"
   ]
  },
  {
   "cell_type": "markdown",
   "id": "comparative-spelling",
   "metadata": {},
   "source": [
    "Для оценки асимптотик алгоритмов будем использовать следующие обозначения:\n",
    "\n",
    "* $H$ - высота изображения;\n",
    "\n",
    "* $W$ - ширина изображения;\n",
    "\n",
    "* $R$ - радиус окна.\n",
    "\n",
    "Отметим, что $R \\leq H$ и $R \\leq W$."
   ]
  },
  {
   "cell_type": "markdown",
   "id": "dominant-behavior",
   "metadata": {},
   "source": [
    "1. Алгоритм простой сортировки"
   ]
  },
  {
   "cell_type": "markdown",
   "id": "played-trainer",
   "metadata": {},
   "source": [
    "Для каждого фрагмента изображения будем сортировать соответствующий набор пикселей каждого из трех каналов с помощью функции `np.sort` и выбирать медианные значения (можно, конечно, воспользоваться функцией `np.median`, но тогда будет сложно оценить асимптотику алгоритма). По умолчанию используется алгоритм быстрой сортировки, имеющий асимптотику $O(R^2 \\log {R})$ (поскольку сортируется массив длины $R^2$)."
   ]
  },
  {
   "cell_type": "code",
   "execution_count": 14,
   "id": "freelance-planner",
   "metadata": {
    "ExecuteTime": {
     "end_time": "2021-11-22T16:31:07.313188Z",
     "start_time": "2021-11-22T16:31:07.304530Z"
    }
   },
   "outputs": [],
   "source": [
    "def median_simple_sort(noisy_img, r=3):\n",
    "    height = noisy_img.shape[0]\n",
    "    width = noisy_img.shape[1]\n",
    "    window_size = r ** 2\n",
    "    median_index = window_size // 2\n",
    "    border_depth = (r - 1) // 2\n",
    "\n",
    "    framed_img = make_border(img=noisy_img, depth=border_depth).astype(np.int32).transpose((2, 0, 1))\n",
    "\n",
    "    result = np.zeros((height, width, 3))\n",
    "\n",
    "    for i in range(height):\n",
    "        for j in range(width):\n",
    "            for k in range(NUM_CHANNELS):\n",
    "                result[i][j][k] = np.sort(framed_img[k, i:(i+r), j:(j+r)].reshape((window_size)))[median_index]\n",
    "\n",
    "    return result.astype('uint8')"
   ]
  },
  {
   "cell_type": "code",
   "execution_count": 15,
   "id": "found-secret",
   "metadata": {
    "ExecuteTime": {
     "end_time": "2021-11-22T16:31:11.253784Z",
     "start_time": "2021-11-22T16:31:07.316625Z"
    }
   },
   "outputs": [
    {
     "name": "stdout",
     "output_type": "stream",
     "text": [
      "CPU times: user 2.4 s, sys: 703 µs, total: 2.4 s\n",
      "Wall time: 2.4 s\n"
     ]
    }
   ],
   "source": [
    "%%time\n",
    "simple_sort_result = median_simple_sort(noisy_img=lenna_noisy, r=7)"
   ]
  },
  {
   "cell_type": "markdown",
   "id": "needed-company",
   "metadata": {},
   "source": [
    "Сравним результат работы алгоритма с результатом работы функции `medianBlur`."
   ]
  },
  {
   "cell_type": "code",
   "execution_count": 16,
   "id": "lesbian-judge",
   "metadata": {
    "ExecuteTime": {
     "end_time": "2021-11-22T16:31:11.266065Z",
     "start_time": "2021-11-22T16:31:11.255464Z"
    }
   },
   "outputs": [],
   "source": [
    "assert np.allclose(simple_sort_result, cv2_result)"
   ]
  },
  {
   "cell_type": "markdown",
   "id": "thermal-cardiff",
   "metadata": {},
   "source": [
    "Итоговая асимптотика алгоритма: $O (H W R^2 \\log {R})$.\n",
    "\n",
    "Дополнительная память нужна для хранения обрамленного изображения и текущего окна: $O ((H + R) (W + R) + R^2) = O (H W)$."
   ]
  },
  {
   "cell_type": "markdown",
   "id": "female-muscle",
   "metadata": {},
   "source": [
    "2. Алгоритм Huang et al."
   ]
  },
  {
   "cell_type": "code",
   "execution_count": 17,
   "id": "secondary-chambers",
   "metadata": {
    "ExecuteTime": {
     "end_time": "2021-11-22T16:31:11.331498Z",
     "start_time": "2021-11-22T16:31:11.267447Z"
    }
   },
   "outputs": [],
   "source": [
    "def get_hist_median(hist, median_index):\n",
    "    counter = 0\n",
    "    for j in range(MAX_COMPONENT_VALUE + 1):\n",
    "        counter += hist[j]\n",
    "        if counter > median_index:\n",
    "            counter -= hist[j]\n",
    "            return counter, j"
   ]
  },
  {
   "cell_type": "code",
   "execution_count": 18,
   "id": "opening-turkey",
   "metadata": {
    "ExecuteTime": {
     "end_time": "2021-11-22T16:31:11.403773Z",
     "start_time": "2021-11-22T16:31:11.334381Z"
    }
   },
   "outputs": [],
   "source": [
    "def median_huang(noisy_img, r=3):\n",
    "    height = noisy_img.shape[0]\n",
    "    width = noisy_img.shape[1]\n",
    "    window_size = r ** 2\n",
    "    median_index = window_size // 2\n",
    "    border_depth = (r - 1) // 2\n",
    "\n",
    "    curr_median = 0\n",
    "    counter = 0 # the number of the elements less than the current median\n",
    "    hist = dict.fromkeys(range(MAX_COMPONENT_VALUE + 1), 0)\n",
    "\n",
    "    framed_img = make_border(img=noisy_img, depth=border_depth).astype(np.int32).transpose((2, 0, 1))\n",
    "\n",
    "    result = np.zeros((height, width, 3))\n",
    "\n",
    "    for i in range(height):\n",
    "        for k in range(NUM_CHANNELS):\n",
    "            for j in range(r):\n",
    "                for s in range(r):\n",
    "                    hist[framed_img[k][i + s][j]] += 1\n",
    "\n",
    "            counter, curr_median = get_hist_median(hist, median_index)\n",
    "            result[i][0][k] = curr_median\n",
    "\n",
    "            for j in range(1, width):\n",
    "                for s in range(r):\n",
    "                    old_elem = framed_img[k][i + s][j - 1]\n",
    "                    new_elem = framed_img[k][i + s][j + (r - 1)]\n",
    "\n",
    "                    hist[old_elem] -= 1\n",
    "                    hist[new_elem] += 1\n",
    "\n",
    "                    counter -= old_elem < curr_median\n",
    "                    counter += new_elem < curr_median\n",
    "\n",
    "                if counter > median_index:\n",
    "                    while counter > median_index:\n",
    "                        curr_median -= 1\n",
    "                        counter -= hist[curr_median]\n",
    "                else:\n",
    "                    while counter + hist[curr_median] <= median_index:\n",
    "                        counter += hist[curr_median]\n",
    "                        curr_median += 1\n",
    "\n",
    "                result[i][j][k] = curr_median\n",
    "\n",
    "            counter = 0\n",
    "            hist = dict.fromkeys(range(MAX_COMPONENT_VALUE + 1), 0)\n",
    "\n",
    "    return result.astype('uint8')"
   ]
  },
  {
   "cell_type": "code",
   "execution_count": 19,
   "id": "hearing-marine",
   "metadata": {
    "ExecuteTime": {
     "end_time": "2021-11-22T16:32:01.571807Z",
     "start_time": "2021-11-22T16:31:11.407435Z"
    },
    "scrolled": false
   },
   "outputs": [
    {
     "name": "stdout",
     "output_type": "stream",
     "text": [
      "CPU times: user 49.9 s, sys: 45 ms, total: 50 s\n",
      "Wall time: 50.1 s\n"
     ]
    }
   ],
   "source": [
    "%%time\n",
    "huang_result = median_huang(noisy_img=lenna_noisy, r=7)"
   ]
  },
  {
   "cell_type": "markdown",
   "id": "parliamentary-cyprus",
   "metadata": {},
   "source": [
    "Сравним результат работы алгоритма с результатом работы функции `medianBlur`."
   ]
  },
  {
   "cell_type": "code",
   "execution_count": 20,
   "id": "finnish-replication",
   "metadata": {
    "ExecuteTime": {
     "end_time": "2021-11-22T16:32:01.582041Z",
     "start_time": "2021-11-22T16:32:01.573442Z"
    }
   },
   "outputs": [],
   "source": [
    "assert np.allclose(huang_result, cv2_result)"
   ]
  },
  {
   "cell_type": "markdown",
   "id": "international-intellectual",
   "metadata": {},
   "source": [
    "Итоговая асимптотика алгоритма: $O (H W R)$ (используется сортировка подсчетом, которая имеет сложность $O (R^2)$).\n",
    "\n",
    "Дополнительная память нужна для хранения обрамленного изображения и гистограммы: $O ((H + R) (W + R) + 1) = O (H W)$."
   ]
  },
  {
   "cell_type": "markdown",
   "id": "remarkable-colleague",
   "metadata": {},
   "source": [
    "3. Алгоритм Constant time."
   ]
  },
  {
   "cell_type": "code",
   "execution_count": 21,
   "id": "coated-intensity",
   "metadata": {
    "ExecuteTime": {
     "end_time": "2021-11-22T16:32:01.643101Z",
     "start_time": "2021-11-22T16:32:01.583595Z"
    }
   },
   "outputs": [],
   "source": [
    "def add_hist(window_hist, column_hist):\n",
    "    for i in range(MAX_COMPONENT_VALUE + 1):\n",
    "        window_hist[i] += column_hist[i]"
   ]
  },
  {
   "cell_type": "code",
   "execution_count": 22,
   "id": "liquid-cylinder",
   "metadata": {
    "ExecuteTime": {
     "end_time": "2021-11-22T16:32:01.713427Z",
     "start_time": "2021-11-22T16:32:01.645291Z"
    }
   },
   "outputs": [],
   "source": [
    "def remove_hist(window_hist, column_hist):\n",
    "    for i in range(MAX_COMPONENT_VALUE + 1):\n",
    "        window_hist[i] -= column_hist[i]"
   ]
  },
  {
   "cell_type": "code",
   "execution_count": 23,
   "id": "occupational-jones",
   "metadata": {
    "ExecuteTime": {
     "end_time": "2021-11-22T16:32:01.798888Z",
     "start_time": "2021-11-22T16:32:01.725953Z"
    }
   },
   "outputs": [],
   "source": [
    "def modify_column_hist(column_hist, old_elem, new_elem):\n",
    "    column_hist[old_elem] -= 1\n",
    "    column_hist[new_elem] += 1"
   ]
  },
  {
   "cell_type": "code",
   "execution_count": 24,
   "id": "exclusive-scanning",
   "metadata": {
    "ExecuteTime": {
     "end_time": "2021-11-22T16:32:01.871770Z",
     "start_time": "2021-11-22T16:32:01.804366Z"
    }
   },
   "outputs": [],
   "source": [
    "def median_constant(noisy_img, r=3):\n",
    "    height = noisy_img.shape[0]\n",
    "    width = noisy_img.shape[1]\n",
    "    window_size = r ** 2\n",
    "    median_index = window_size // 2\n",
    "    border_depth = (r - 1) // 2\n",
    "\n",
    "    curr_median = 0\n",
    "\n",
    "    framed_img = make_border(img=noisy_img, depth=border_depth).astype(np.int32).transpose((2, 0, 1))\n",
    "\n",
    "    result = np.zeros((height, width, 3))\n",
    "\n",
    "    for k in range(NUM_CHANNELS):\n",
    "        column_hists = []\n",
    "        for i in range(width + r - 1):\n",
    "            column_hists.append(dict.fromkeys(range(MAX_COMPONENT_VALUE + 1), 0))\n",
    "        \n",
    "        #initializing column histograms\n",
    "        for i in range(len(column_hists)):\n",
    "            for j in range(r):\n",
    "                column_hists[i][framed_img[k][j][i]] += 1\n",
    "\n",
    "        # initializing window histogram\n",
    "        window_hist = dict.fromkeys(range(MAX_COMPONENT_VALUE + 1), 0)\n",
    "\n",
    "        # the first window in the first row\n",
    "        for i in range(r):\n",
    "            add_hist(window_hist, column_hists[i])\n",
    "\n",
    "        _, result[0][0][k] = get_hist_median(window_hist, median_index)\n",
    "\n",
    "        # the whole first row except first window\n",
    "        for i in range(1, width):\n",
    "            remove_hist(window_hist, column_hists[i - 1])\n",
    "            add_hist(window_hist, column_hists[i + r - 1])\n",
    "            _, result[0][i][k] = get_hist_median(window_hist, median_index)\n",
    "\n",
    "        for i in range(1, height):\n",
    "            \n",
    "            #modifying column histograms for the first window in a row\n",
    "            for j in range(r):\n",
    "                modify_column_hist(column_hists[j], framed_img[k][i - 1][j], framed_img[k][i + r - 1][j])\n",
    "\n",
    "            window_hist = dict.fromkeys(range(MAX_COMPONENT_VALUE + 1), 0)\n",
    "\n",
    "            for j in range(r):\n",
    "                add_hist(window_hist, column_hists[j])\n",
    "\n",
    "            _, result[i][0][k] = get_hist_median(window_hist, median_index)\n",
    "\n",
    "            for j in range(1, width):\n",
    "                modify_column_hist(column_hists[j + r - 1], framed_img[k][i - 1][j + r - 1], framed_img[k][i + r - 1][j + r - 1])\n",
    "                remove_hist(window_hist, column_hists[j - 1])\n",
    "                add_hist(window_hist, column_hists[j + r - 1])\n",
    "                _, result[i][j][k] = get_hist_median(window_hist, median_index)\n",
    "\n",
    "    return result.astype('uint8')"
   ]
  },
  {
   "cell_type": "code",
   "execution_count": 25,
   "id": "digital-dayton",
   "metadata": {
    "ExecuteTime": {
     "end_time": "2021-11-22T16:32:32.600535Z",
     "start_time": "2021-11-22T16:32:01.876847Z"
    }
   },
   "outputs": [
    {
     "name": "stdout",
     "output_type": "stream",
     "text": [
      "CPU times: user 30.6 s, sys: 4.12 ms, total: 30.6 s\n",
      "Wall time: 30.6 s\n"
     ]
    }
   ],
   "source": [
    "%%time\n",
    "constant_result = median_constant(noisy_img=lenna_noisy, r=7)"
   ]
  },
  {
   "cell_type": "markdown",
   "id": "weekly-supervisor",
   "metadata": {},
   "source": [
    "Сравним результат работы алгоритма с результатом работы функции `medianBlur`."
   ]
  },
  {
   "cell_type": "code",
   "execution_count": 26,
   "id": "severe-oasis",
   "metadata": {
    "ExecuteTime": {
     "end_time": "2021-11-22T16:32:32.612747Z",
     "start_time": "2021-11-22T16:32:32.602662Z"
    }
   },
   "outputs": [],
   "source": [
    "assert np.allclose(constant_result, cv2_result)"
   ]
  },
  {
   "cell_type": "markdown",
   "id": "destroyed-publicity",
   "metadata": {},
   "source": [
    "Итоговая асимптотика алгоритма: $O (H W)$.\n",
    "\n",
    "Дополнительная память нужна для хранения обрамленного изображения и набора гистограмм: $O ((H + R) (W + R) + W) = O (H W)$."
   ]
  },
  {
   "cell_type": "markdown",
   "id": "therapeutic-retrieval",
   "metadata": {},
   "source": [
    "Запишем в файлы все изображения, полученные в результате работы алгоритмов (хоть уже и доказана их полная идентичность), а также изначальное зашумленное изображение."
   ]
  },
  {
   "cell_type": "code",
   "execution_count": 43,
   "id": "better-polls",
   "metadata": {
    "ExecuteTime": {
     "end_time": "2021-11-22T19:32:09.087015Z",
     "start_time": "2021-11-22T19:32:09.051704Z"
    }
   },
   "outputs": [
    {
     "data": {
      "text/plain": [
       "True"
      ]
     },
     "execution_count": 43,
     "metadata": {},
     "output_type": "execute_result"
    }
   ],
   "source": [
    "cv2.imwrite('lenna_noisy.jpeg', lenna_noisy)"
   ]
  },
  {
   "cell_type": "code",
   "execution_count": 44,
   "id": "charitable-leeds",
   "metadata": {
    "ExecuteTime": {
     "end_time": "2021-11-22T19:32:48.528355Z",
     "start_time": "2021-11-22T19:32:48.502781Z"
    }
   },
   "outputs": [
    {
     "data": {
      "text/plain": [
       "True"
      ]
     },
     "execution_count": 44,
     "metadata": {},
     "output_type": "execute_result"
    }
   ],
   "source": [
    "cv2.imwrite('lenna_opencv.jpeg', cv2_result)"
   ]
  },
  {
   "cell_type": "code",
   "execution_count": 45,
   "id": "careful-union",
   "metadata": {
    "ExecuteTime": {
     "end_time": "2021-11-22T19:33:24.021720Z",
     "start_time": "2021-11-22T19:33:23.994946Z"
    }
   },
   "outputs": [
    {
     "data": {
      "text/plain": [
       "True"
      ]
     },
     "execution_count": 45,
     "metadata": {},
     "output_type": "execute_result"
    }
   ],
   "source": [
    "cv2.imwrite('lenna_simple_sort.jpeg', simple_sort_result)"
   ]
  },
  {
   "cell_type": "code",
   "execution_count": 46,
   "id": "sought-delhi",
   "metadata": {
    "ExecuteTime": {
     "end_time": "2021-11-22T19:33:48.597519Z",
     "start_time": "2021-11-22T19:33:48.571205Z"
    }
   },
   "outputs": [
    {
     "data": {
      "text/plain": [
       "True"
      ]
     },
     "execution_count": 46,
     "metadata": {},
     "output_type": "execute_result"
    }
   ],
   "source": [
    "cv2.imwrite('lenna_huang.jpeg', huang_result)"
   ]
  },
  {
   "cell_type": "code",
   "execution_count": 47,
   "id": "different-minutes",
   "metadata": {
    "ExecuteTime": {
     "end_time": "2021-11-22T19:34:01.502980Z",
     "start_time": "2021-11-22T19:34:01.491906Z"
    }
   },
   "outputs": [
    {
     "data": {
      "text/plain": [
       "True"
      ]
     },
     "execution_count": 47,
     "metadata": {},
     "output_type": "execute_result"
    }
   ],
   "source": [
    "cv2.imwrite('lenna_constant.jpeg', constant_result)"
   ]
  },
  {
   "cell_type": "markdown",
   "id": "broadband-making",
   "metadata": {},
   "source": [
    "Теперь построим графики времени работы алгоритмов (мсек/мегапиксель) в зависимости от радиуса окна для $R < 100$. Для экспериментов будем использовать то же изображение, что и для проверки работоспособности алгоритмов. Значения $R$ будем полагать равными $3, 5, 7, 9, 11, 13, 15, 17, 19, 21, 31, 41, 51, 71, 91$."
   ]
  },
  {
   "cell_type": "code",
   "execution_count": 27,
   "id": "suitable-project",
   "metadata": {
    "ExecuteTime": {
     "end_time": "2021-11-22T16:32:32.673795Z",
     "start_time": "2021-11-22T16:32:32.614207Z"
    }
   },
   "outputs": [],
   "source": [
    "import time"
   ]
  },
  {
   "cell_type": "code",
   "execution_count": 28,
   "id": "assumed-minnesota",
   "metadata": {
    "ExecuteTime": {
     "end_time": "2021-11-22T16:32:32.743985Z",
     "start_time": "2021-11-22T16:32:32.675449Z"
    }
   },
   "outputs": [],
   "source": [
    "def get_algorithms_time(noisy_img, r_values):\n",
    "    simple_alg_time = []\n",
    "    huang_alg_time = []\n",
    "    constant_alg_time = []\n",
    "\n",
    "    for r in r_values:\n",
    "        start_time = time.time()\n",
    "        median_simple_sort(noisy_img=lenna_noisy, r=r)\n",
    "        finish_time = time.time()\n",
    "        simple_alg_time.append(finish_time - start_time)\n",
    "\n",
    "        start_time = time.time()\n",
    "        median_huang(noisy_img=lenna_noisy, r=r)\n",
    "        finish_time = time.time()\n",
    "        huang_alg_time.append(finish_time - start_time)\n",
    "\n",
    "        start_time = time.time()\n",
    "        median_constant(noisy_img=lenna_noisy, r=r)\n",
    "        finish_time = time.time()\n",
    "        constant_alg_time.append(finish_time - start_time)\n",
    "\n",
    "    return simple_alg_time, huang_alg_time, constant_alg_time"
   ]
  },
  {
   "cell_type": "code",
   "execution_count": 29,
   "id": "vietnamese-overview",
   "metadata": {
    "ExecuteTime": {
     "end_time": "2021-11-22T16:32:36.080583Z",
     "start_time": "2021-11-22T16:32:36.067622Z"
    }
   },
   "outputs": [],
   "source": [
    "r_values = [3, 5, 7, 9, 11, 13, 15, 17, 19, 21, 31, 41, 51, 71, 91]"
   ]
  },
  {
   "cell_type": "code",
   "execution_count": 31,
   "id": "premier-gilbert",
   "metadata": {
    "ExecuteTime": {
     "end_time": "2021-11-22T17:30:49.320268Z",
     "start_time": "2021-11-22T16:33:19.788193Z"
    }
   },
   "outputs": [],
   "source": [
    "simple_alg_time, huang_alg_time, constant_alg_time = get_algorithms_time(lenna_noisy, r_values)"
   ]
  },
  {
   "cell_type": "markdown",
   "id": "awful-record",
   "metadata": {},
   "source": [
    "Учтем, что полученные значения времени необходимо перевести в единицы измерения мсек/мегапиксель."
   ]
  },
  {
   "cell_type": "code",
   "execution_count": 35,
   "id": "changing-athletics",
   "metadata": {
    "ExecuteTime": {
     "end_time": "2021-11-22T18:12:56.089051Z",
     "start_time": "2021-11-22T18:12:56.080700Z"
    }
   },
   "outputs": [],
   "source": [
    "def convert_time(pixels_count, time_list):\n",
    "    for i in range(len(time_list)):\n",
    "        time_list[i] = time_list[i] / pixels_count * 1e9"
   ]
  },
  {
   "cell_type": "code",
   "execution_count": 36,
   "id": "loving-newark",
   "metadata": {
    "ExecuteTime": {
     "end_time": "2021-11-22T18:12:57.780305Z",
     "start_time": "2021-11-22T18:12:57.770623Z"
    }
   },
   "outputs": [],
   "source": [
    "pixels_count = lenna_orig.shape[0] * lenna_orig.shape[1]"
   ]
  },
  {
   "cell_type": "code",
   "execution_count": 37,
   "id": "minute-qualification",
   "metadata": {
    "ExecuteTime": {
     "end_time": "2021-11-22T18:12:59.214399Z",
     "start_time": "2021-11-22T18:12:59.207892Z"
    }
   },
   "outputs": [],
   "source": [
    "convert_time(pixels_count, simple_alg_time)\n",
    "convert_time(pixels_count, huang_alg_time)\n",
    "convert_time(pixels_count, constant_alg_time)"
   ]
  },
  {
   "cell_type": "markdown",
   "id": "academic-strike",
   "metadata": {},
   "source": [
    "Перейдем непосредственно к построению графиков."
   ]
  },
  {
   "cell_type": "code",
   "execution_count": 38,
   "id": "raising-pursuit",
   "metadata": {
    "ExecuteTime": {
     "end_time": "2021-11-22T18:13:15.914702Z",
     "start_time": "2021-11-22T18:13:13.855875Z"
    }
   },
   "outputs": [],
   "source": [
    "import matplotlib.pyplot as plt\n",
    "%matplotlib inline"
   ]
  },
  {
   "cell_type": "code",
   "execution_count": 41,
   "id": "dietary-alias",
   "metadata": {
    "ExecuteTime": {
     "end_time": "2021-11-22T18:13:32.597447Z",
     "start_time": "2021-11-22T18:13:32.578125Z"
    }
   },
   "outputs": [],
   "source": [
    "def plot_time(r_values, simple_alg_time, huang_alg_time, constant_alg_time):\n",
    "    plt.figure(figsize=(12, 12))\n",
    "    plt.plot(r_values, simple_alg_time, color='cornflowerblue', label='Алгоритм простой сортировки')\n",
    "    plt.plot(r_values, huang_alg_time, color='mediumvioletred', label='Алгоритм Huang et al.')\n",
    "    plt.plot(r_values, constant_alg_time, color='coral', label='Алгоритм Constant time')\n",
    "    plt.xlabel('радиус окна R', fontsize=20)\n",
    "    plt.ylabel('время, мсек/мегапиксель', fontsize=20)\n",
    "    plt.xticks(fontsize=14)\n",
    "    plt.yticks(fontsize=14)\n",
    "    plt.title(\"Графики времени работы алгоритмов в зависимости от радиуса окна\", fontsize=16)\n",
    "    plt.legend(fontsize=16)\n",
    "    plt.grid(alpha=0.5)\n",
    "    plt.show()"
   ]
  },
  {
   "cell_type": "code",
   "execution_count": 42,
   "id": "driven-bread",
   "metadata": {
    "ExecuteTime": {
     "end_time": "2021-11-22T18:13:48.563889Z",
     "start_time": "2021-11-22T18:13:47.611757Z"
    }
   },
   "outputs": [
    {
     "data": {
      "image/png": "[encoded data removed]",
      "text/plain": [
       "<Figure size 864x864 with 1 Axes>"
      ]
     },
     "metadata": {
      "needs_background": "light"
     },
     "output_type": "display_data"
    }
   ],
   "source": [
    "plot_time(r_values, simple_alg_time, huang_alg_time, constant_alg_time)"
   ]
  },
  {
   "cell_type": "markdown",
   "id": "accurate-smooth",
   "metadata": {},
   "source": [
    "Из графика выше можно сделать вывод об оптимальных параметрах для композиции алгоритма:\n",
    "\n",
    "* при $R \\leq 50$ быстрее всего работает алгоритм простой сортировки;\n",
    "\n",
    "* при $R > 50$ быстрее всего работает алгоритм Constant time."
   ]
  },
  {
   "cell_type": "markdown",
   "id": "starting-march",
   "metadata": {},
   "source": [
    "Сделаем некоторые выводы о реализованных алгоритмах, исходя из кода и графика.\n",
    "\n",
    "* Время работы алгоритма Constant time ожидаемо почти не зависит от радиуса окна, поскольку во всех случаях это значение много меньше габаритов самого изображения.\n",
    "\n",
    "* Алгоритм Huang et al. асимптотически хуже алгоритма Constant time в $R$ раз, поэтому на графике наблюдается линейная зависимость от радиуса окна.\n",
    "\n",
    "* Время работы алгоритма Constant time хуже времени работы алгоритма простой сортировки при малых $R$. Вероятная причина такого поведения - цикл по гистограмме размера $256$ ($> R^2 \\log {R}$ при малых значениях $R$), в котором на каждой итерации перебирается число элементов, сравнимое с размером гистограммы.\n",
    "\n",
    "* Также вполне возможно, что преимущество алгоритма простой сортировки по времени работы обусловлено некоторыми оптимизациями алгоритма сортировки массива в реализации библиотеки `numpy`. При использовании сортировок без оптимизаций пересечение желтой и синей линий произошло бы гораздо раньше, уже при $R \\approx 10$. Кроме того, исходя из асимптотик, можно предположить, что в таком случае при $R \\approx 60-70$ синяя и фиолетовая линии также пересеклись бы.\n",
    "\n",
    "* Как бы то ни было, при больших значениях $R$ (т.е. при значениях, больших, по крайней мере, $50$) алгоритм Constant time однозначно превосходит по времени работы два других алгоритма."
   ]
  }
 ],
 "metadata": {
  "kernelspec": {
   "display_name": "Python [conda env:mipt-stats] *",
   "language": "python",
   "name": "conda-env-mipt-stats-py"
  },
  "language_info": {
   "codemirror_mode": {
    "name": "ipython",
    "version": 3
   },
   "file_extension": ".py",
   "mimetype": "text/x-python",
   "name": "python",
   "nbconvert_exporter": "python",
   "pygments_lexer": "ipython3",
   "version": "3.7.6"
  }
 },
 "nbformat": 4,
 "nbformat_minor": 5
}
